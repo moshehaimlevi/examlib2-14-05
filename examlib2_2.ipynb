{
  "nbformat": 4,
  "nbformat_minor": 0,
  "metadata": {
    "colab": {
      "provenance": [],
      "authorship_tag": "ABX9TyNUgr+CXnXxUDh1KwsQPIK4",
      "include_colab_link": true
    },
    "kernelspec": {
      "name": "python3",
      "display_name": "Python 3"
    },
    "language_info": {
      "name": "python"
    }
  },
  "cells": [
    {
      "cell_type": "markdown",
      "metadata": {
        "id": "view-in-github",
        "colab_type": "text"
      },
      "source": [
        "<a href=\"https://colab.research.google.com/github/moshehaimlevi/examlib2-14-05/blob/main/examlib2_2.ipynb\" target=\"_parent\"><img src=\"https://colab.research.google.com/assets/colab-badge.svg\" alt=\"Open In Colab\"/></a>"
      ]
    },
    {
      "cell_type": "code",
      "execution_count": 1,
      "metadata": {
        "colab": {
          "base_uri": "https://localhost:8080/"
        },
        "id": "qNkrNU3mRkSF",
        "outputId": "2d86e9e1-1b78-4975-a939-07971352471a"
      },
      "outputs": [
        {
          "output_type": "stream",
          "name": "stdout",
          "text": [
            "Mounted at /content/drive\n",
            "Drive already mounted at /content/drive; to attempt to forcibly remount, call drive.mount(\"/content/drive\", force_remount=True).\n",
            "Drive already mounted at /content/drive; to attempt to forcibly remount, call drive.mount(\"/content/drive\", force_remount=True).\n",
            "Drive already mounted at /content/drive; to attempt to forcibly remount, call drive.mount(\"/content/drive\", force_remount=True).\n"
          ]
        }
      ],
      "source": [
        "import numpy as np\n",
        "from IPython.display import display\n",
        "import pandas as pd\n",
        "import matplotlib.pyplot as plt\n",
        "import seaborn as sns\n",
        "from google.colab import drive\n",
        "drive.mount('/content/drive')\n",
        "file_path = '/content/drive/My Drive/order_item.csv'\n",
        "order_item_df = pd.read_csv(file_path)\n",
        "\n",
        "drive.mount('/content/drive')\n",
        "file_path = '/content/drive/My Drive/customers.csv'\n",
        "customers_df = pd.read_csv(file_path)\n",
        "\n",
        "drive.mount('/content/drive')\n",
        "file_path = '/content/drive/My Drive/orders.csv'\n",
        "orders_df = pd.read_csv(file_path)\n",
        "\n",
        "drive.mount('/content/drive')\n",
        "file_path = '/content/drive/My Drive/Items.csv'\n",
        "items_df = pd.read_csv(file_path)\n"
      ]
    },
    {
      "cell_type": "code",
      "source": [
        "################################ QUESTION NUMBER 1 ################################\n",
        "################################ ERASING DUPS ################################\n",
        "items_df = items_df.copy()\n",
        "order_item_df = order_item_df.copy()\n",
        "\n",
        "items_df['non_null_count'] = items_df.notnull().sum(axis=1)\n",
        "\n",
        "best_items = items_df.sort_values(['item_name', 'non_null_count'], ascending=[True, False]) \\\n",
        "                     .drop_duplicates(subset='item_name', keep='first')\n",
        "\n",
        "id_map = items_df.merge(best_items[['id', 'item_name']], on='item_name', suffixes=('_old', '_new'))\n",
        "id_map = id_map[id_map['id_old'] != id_map['id_new']][['id_old', 'id_new']]\n",
        "\n",
        "order_item_df['item_id'] = order_item_df['item_id'].replace(dict(zip(id_map['id_old'], id_map['id_new'])))\n",
        "\n",
        "items_cleaned = best_items.drop(columns=['non_null_count'])\n",
        "\n",
        "\n",
        "print(\"Cleaned items table:\")\n",
        "print(items_cleaned)\n",
        "\n",
        "print(\"\\nUpdated order_item table:\")\n",
        "print(order_item_df)\n"
      ],
      "metadata": {
        "colab": {
          "base_uri": "https://localhost:8080/"
        },
        "id": "1q0gttejYa4z",
        "outputId": "3d0a0bfe-0df6-48e2-bb14-6df6c41cea2a"
      },
      "execution_count": 8,
      "outputs": [
        {
          "output_type": "stream",
          "name": "stdout",
          "text": [
            "Cleaned items table:\n",
            "    id            item_name                   item_category  item_price  \\\n",
            "0   26        Action Camera           Photography Equipment     2694.25   \n",
            "1   37   Antivirus Software                        Software     4186.62   \n",
            "2   11       Blu-Ray Player     Video Players and Recorders     3382.86   \n",
            "3   25            Camcorder           Photography Equipment      860.01   \n",
            "4    7               Camera           Photography Equipment     2366.72   \n",
            "7   18     Computer Monitor       Computers and Accessories     4076.35   \n",
            "8   27          Dash Camera           Photography Equipment     1283.99   \n",
            "9    3              Desktop       Computers and Accessories     1121.84   \n",
            "11  24                Drone        Televisions and Displays     4449.99   \n",
            "14  21  External Hard Drive       Computers and Accessories     1251.36   \n",
            "15  15      Fitness Tracker  Mobile Devices and Accessories     2997.29   \n",
            "16  30         Gaming Chair                Gaming Equipment      417.16   \n",
            "17  34           HDMI Cable                          Cables     1710.84   \n",
            "19  49            Headphone                 Audio Equipment     1317.56   \n",
            "20  19             Keyboard       Computers and Accessories      604.18   \n",
            "21   2               Laptop       Computers and Accessories     1851.32   \n",
            "23  23        Micro SD Card                 Storage Devices     3238.23   \n",
            "24  36                Modem                             NaN     3256.88   \n",
            "25  20                Mouse       Computers and Accessories     1333.04   \n",
            "26  38      Office Software   Printers and Office Equipment     3454.82   \n",
            "27  32     Portable Charger  Mobile Devices and Accessories     1523.27   \n",
            "28  39          Power Strip   Printers and Office Equipment     3344.90   \n",
            "29   6              Printer   Printers and Office Equipment     4175.99   \n",
            "31  17          Smart Watch        Televisions and Displays      312.88   \n",
            "33   4           Smartphone  Mobile Devices and Accessories      965.20   \n",
            "36  50              Speaker                 Audio Equipment     4453.90   \n",
            "37  33      Surge Protector   Printers and Office Equipment      488.39   \n",
            "39  46               Tablet  Mobile Devices and Accessories     1606.65   \n",
            "40   1           Television        Televisions and Displays      356.81   \n",
            "43  22      USB Flash Drive                             NaN     1150.87   \n",
            "46  41           VR Headset                             NaN     1905.01   \n",
            "44  13           Video Game                             NaN     1890.03   \n",
            "45  12   Video Game Console                Gaming Equipment      689.61   \n",
            "47  29               Webcam   Printers and Office Equipment     4227.36   \n",
            "48  35         Wi-Fi Router               Network Equipment     3812.53   \n",
            "49  31     Wireless Charger  Mobile Devices and Accessories      241.54   \n",
            "\n",
            "    stock_quantity item_brand  item_availability  \n",
            "0              NaN       Bose              False  \n",
            "1              NaN        NaN              False  \n",
            "2            704.0       ASUS               True  \n",
            "3            870.0       Bose               True  \n",
            "4            458.0  Microsoft               True  \n",
            "7           1205.0       Bose               True  \n",
            "8            550.0     Lenovo               True  \n",
            "9            334.0         HP               True  \n",
            "11           443.0    Samsung               True  \n",
            "14          1013.0  Microsoft               True  \n",
            "15           956.0      Apple               True  \n",
            "16           704.0    Samsung               True  \n",
            "17           869.0        JBL               True  \n",
            "19             NaN       Sony              False  \n",
            "20             NaN  Panasonic              False  \n",
            "21           493.0         HP               True  \n",
            "23           663.0       Sony               True  \n",
            "24           673.0       Bose               True  \n",
            "25           881.0   Logitech               True  \n",
            "26           643.0        JBL               True  \n",
            "27           192.0         HP               True  \n",
            "28          1211.0         HP               True  \n",
            "29           971.0       Sony               True  \n",
            "31           685.0      Canon               True  \n",
            "33           201.0       Bose               True  \n",
            "36           937.0   Logitech               True  \n",
            "37           800.0       ASUS               True  \n",
            "39           267.0         HP               True  \n",
            "40          1009.0        JBL               True  \n",
            "43          1251.0  Panasonic               True  \n",
            "46          1367.0        JBL               True  \n",
            "44           681.0     Lenovo               True  \n",
            "45           753.0  Microsoft               True  \n",
            "47           596.0       Dell               True  \n",
            "48            14.0  Microsoft               True  \n",
            "49           951.0     Lenovo               True  \n",
            "\n",
            "Updated order_item table:\n",
            "       id  order_id  item_id  quantity\n",
            "0       1       337     24.0         2\n",
            "1       2       430     27.0         6\n",
            "2       3       430     36.0         2\n",
            "3       4       508     46.0         1\n",
            "4       5       229     27.0         2\n",
            "..    ...       ...      ...       ...\n",
            "995   996       594     24.0         2\n",
            "996   997       330     32.0         8\n",
            "997   998       472     24.0         3\n",
            "998   999       222     29.0         1\n",
            "999  1000       337     24.0         1\n",
            "\n",
            "[1000 rows x 4 columns]\n"
          ]
        }
      ]
    },
    {
      "cell_type": "code",
      "source": [
        "############# ALSO Q1 ###########\n",
        "customers_df['null_count'] = customers_df.isnull().sum(axis=1)\n",
        "\n",
        "customers_to_remove = customers_df[customers_df['null_count'] >= 3]['id']\n",
        "\n",
        "customers_cleaned = customers_df[~customers_df['id'].isin(customers_to_remove)].drop(columns='null_count')\n",
        "\n",
        "order_item_cleaned = order_item_df[~order_item_df['id'].isin(customers_to_remove)]\n",
        "\n",
        "print(\"Cleaned customers:\")\n",
        "print(customers_cleaned)\n",
        "\n",
        "print(\"\\nCleaned order_item:\")"
      ],
      "metadata": {
        "colab": {
          "base_uri": "https://localhost:8080/"
        },
        "id": "AXKrC7wGY5ww",
        "outputId": "c7a37e66-4b71-4933-d90b-4c6bcd513de6"
      },
      "execution_count": 17,
      "outputs": [
        {
          "output_type": "stream",
          "name": "stdout",
          "text": [
            "Cleaned customers:\n",
            "      id first_name  last_name  gender   age   nationallity joining_date  \\\n",
            "0      1      Eadie     Maffeo  Female  41.0         France   11/01/2022   \n",
            "1      2     Hammad  Brewerton    Male  56.0         Isreal   30/09/2022   \n",
            "2      3    Terrell       Bris    Male  43.0          India          NaN   \n",
            "3      4    Frannie   Morewood    Male  84.0         France   26/05/2021   \n",
            "4      5      Sophi      Fleet  Female  33.0         Sweden   19/07/2021   \n",
            "..   ...        ...        ...     ...   ...            ...          ...   \n",
            "495  496     Renado     Monard    Male  53.0          India          NaN   \n",
            "496  497     Kalina       Luno  Female  30.0          Italy   16/10/2022   \n",
            "497  498        Viv  Callander  Female  44.0         France   24/02/2021   \n",
            "498  499      Georg      Raper    Male  41.0        Germany   24/04/2022   \n",
            "499  500   Richardo   O'Criane    Male  32.0  United States   06/08/2021   \n",
            "\n",
            "     phone_number                      email  \n",
            "0    534-341-9052        emaffeo0@smh.com.au  \n",
            "1    999-994-0510  hbrewerton1@discovery.com  \n",
            "2    980-455-5208            tbris2@yale.edu  \n",
            "3    979-187-1493  fmorewood3@vistaprint.com  \n",
            "4    991-853-9984         sfleet4@unicef.org  \n",
            "..            ...                        ...  \n",
            "495  399-472-4819         rmonarddr@yale.edu  \n",
            "496  659-768-2522     klunods@friendfeed.com  \n",
            "497  447-685-9318       vcallanderdt@icq.com  \n",
            "498  863-207-4830     graperdu@homestead.com  \n",
            "499  796-438-2219   rocrianedv@geocities.com  \n",
            "\n",
            "[494 rows x 9 columns]\n",
            "\n",
            "Cleaned order_item:\n"
          ]
        }
      ]
    }
  ]
}